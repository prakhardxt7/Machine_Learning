{
 "cells": [
  {
   "cell_type": "markdown",
   "id": "318af07c-a89b-4a2a-9731-f21b600b5a6e",
   "metadata": {
    "jp-MarkdownHeadingCollapsed": true
   },
   "source": [
    "## Importing Libraries"
   ]
  },
  {
   "cell_type": "code",
   "execution_count": 2,
   "id": "77a13435-516c-4731-86fb-c222cd451ae5",
   "metadata": {},
   "outputs": [],
   "source": [
    "import numpy as np\n",
    "import pandas as pd"
   ]
  },
  {
   "cell_type": "markdown",
   "id": "ecd71084-ff90-4090-891e-47694f8fd966",
   "metadata": {
    "jp-MarkdownHeadingCollapsed": true
   },
   "source": [
    "## Definition of the Data"
   ]
  },
  {
   "cell_type": "markdown",
   "id": "0be778cc-90a5-4ca6-bfec-3b1ccab6d498",
   "metadata": {},
   "source": [
    "\n",
    "Virat Kohli is one of the most famous cricketers in the world. Here you are given a dataset of all the ODI matches played by Virat Kohli from 18 August 2008 to 22 January 2017. You are required to analyze the performance of Virat Kohli in ODI matches.\n",
    "\n",
    "1. runs: Number of runs scored by the Virat in a match.\n",
    "2. NotOut: Indicates whether the Virat was not out in the innings (1 for not out, 0 for out).\n",
    "3. mins: Number of minutes the Virat spent batting in the innings.\n",
    "4. bf: Balls faced by the Virat during their innings.\n",
    "5. fours: Number of boundaries (fours) hit by the Virat.\n",
    "6. sixes: Number of sixes hit by the Virat.\n",
    "7. sr: Strike rate of the Virat in that match, calculated as (runs/bf)*100.\n",
    "8. Inns: Indicates the innings in which the Virat batted (1 for first innings, 2 for second innings).\n",
    "9. Opp: The opposing team in that match.\n",
    "10. Ground: The location where the match was played.\n",
    "11. Date: The date on which the match was played.as played.match"
   ]
  },
  {
   "cell_type": "markdown",
   "id": "be4230d1-d24f-45db-874e-7889ee9dae8b",
   "metadata": {
    "jp-MarkdownHeadingCollapsed": true
   },
   "source": [
    "## Important date concept"
   ]
  },
  {
   "cell_type": "code",
   "execution_count": 406,
   "id": "be45ca4f-c6f7-4c56-a625-7f6009e759e0",
   "metadata": {},
   "outputs": [
    {
     "data": {
      "text/plain": [
       "'2020-02-11'"
      ]
     },
     "execution_count": 406,
     "metadata": {},
     "output_type": "execute_result"
    }
   ],
   "source": [
    "df['Date'].max()"
   ]
  },
  {
   "cell_type": "code",
   "execution_count": 409,
   "id": "6dfe2e5e-effa-4409-abba-7396c4a30acd",
   "metadata": {},
   "outputs": [
    {
     "data": {
      "text/plain": [
       "'2008-08-18'"
      ]
     },
     "execution_count": 409,
     "metadata": {},
     "output_type": "execute_result"
    }
   ],
   "source": [
    "df['Date'].min()"
   ]
  },
  {
   "cell_type": "code",
   "execution_count": 402,
   "id": "54749927-16bb-4db5-af0b-ef9cd08a6c4c",
   "metadata": {},
   "outputs": [],
   "source": [
    "df['Date'] = df['Date'].dt.strftime('%Y-%m-%d')"
   ]
  },
  {
   "cell_type": "code",
   "execution_count": 388,
   "id": "3f90d457-2877-4509-b066-93f65822614b",
   "metadata": {},
   "outputs": [],
   "source": [
    "df['Date'] = pd.to_datetime(df['Date'], format='%d-%b-%y')"
   ]
  },
  {
   "cell_type": "markdown",
   "id": "63ad5925-7fa1-4cc1-8d2d-72349b0fdf4e",
   "metadata": {
    "jp-MarkdownHeadingCollapsed": true
   },
   "source": [
    "## Reading the dataset"
   ]
  },
  {
   "cell_type": "code",
   "execution_count": 7,
   "id": "0c3749a4-06ea-44ca-8fd7-da0c43367284",
   "metadata": {},
   "outputs": [],
   "source": [
    "df = pd.read_csv('Virat_ODI.csv')"
   ]
  },
  {
   "cell_type": "code",
   "execution_count": 9,
   "id": "8cbfc23c-83b5-4995-a3e3-0db60d2352cd",
   "metadata": {},
   "outputs": [
    {
     "data": {
      "text/html": [
       "<div>\n",
       "<style scoped>\n",
       "    .dataframe tbody tr th:only-of-type {\n",
       "        vertical-align: middle;\n",
       "    }\n",
       "\n",
       "    .dataframe tbody tr th {\n",
       "        vertical-align: top;\n",
       "    }\n",
       "\n",
       "    .dataframe thead th {\n",
       "        text-align: right;\n",
       "    }\n",
       "</style>\n",
       "<table border=\"1\" class=\"dataframe\">\n",
       "  <thead>\n",
       "    <tr style=\"text-align: right;\">\n",
       "      <th></th>\n",
       "      <th>runs</th>\n",
       "      <th>NotOut</th>\n",
       "      <th>mins</th>\n",
       "      <th>bf</th>\n",
       "      <th>fours</th>\n",
       "      <th>sixes</th>\n",
       "      <th>sr</th>\n",
       "      <th>Inns</th>\n",
       "      <th>Opp</th>\n",
       "      <th>Ground</th>\n",
       "      <th>Date</th>\n",
       "    </tr>\n",
       "  </thead>\n",
       "  <tbody>\n",
       "    <tr>\n",
       "      <th>0</th>\n",
       "      <td>183</td>\n",
       "      <td>0</td>\n",
       "      <td>211</td>\n",
       "      <td>148</td>\n",
       "      <td>22</td>\n",
       "      <td>1</td>\n",
       "      <td>123.64</td>\n",
       "      <td>2</td>\n",
       "      <td>Pakistan</td>\n",
       "      <td>Dhaka</td>\n",
       "      <td>18-Mar-12</td>\n",
       "    </tr>\n",
       "    <tr>\n",
       "      <th>1</th>\n",
       "      <td>160</td>\n",
       "      <td>1</td>\n",
       "      <td>220</td>\n",
       "      <td>159</td>\n",
       "      <td>12</td>\n",
       "      <td>2</td>\n",
       "      <td>100.62</td>\n",
       "      <td>1</td>\n",
       "      <td>South Africa</td>\n",
       "      <td>Cape Town</td>\n",
       "      <td>07-Feb-18</td>\n",
       "    </tr>\n",
       "    <tr>\n",
       "      <th>2</th>\n",
       "      <td>157</td>\n",
       "      <td>1</td>\n",
       "      <td>217</td>\n",
       "      <td>129</td>\n",
       "      <td>13</td>\n",
       "      <td>4</td>\n",
       "      <td>121.70</td>\n",
       "      <td>1</td>\n",
       "      <td>West Indies</td>\n",
       "      <td>Visakhapatnam</td>\n",
       "      <td>24-Oct-18</td>\n",
       "    </tr>\n",
       "    <tr>\n",
       "      <th>3</th>\n",
       "      <td>154</td>\n",
       "      <td>1</td>\n",
       "      <td>202</td>\n",
       "      <td>134</td>\n",
       "      <td>16</td>\n",
       "      <td>1</td>\n",
       "      <td>114.92</td>\n",
       "      <td>2</td>\n",
       "      <td>New Zealand</td>\n",
       "      <td>Mohali</td>\n",
       "      <td>23-Oct-16</td>\n",
       "    </tr>\n",
       "    <tr>\n",
       "      <th>4</th>\n",
       "      <td>140</td>\n",
       "      <td>0</td>\n",
       "      <td>0</td>\n",
       "      <td>107</td>\n",
       "      <td>21</td>\n",
       "      <td>2</td>\n",
       "      <td>130.84</td>\n",
       "      <td>2</td>\n",
       "      <td>West Indies</td>\n",
       "      <td>Guwahati</td>\n",
       "      <td>21-Oct-18</td>\n",
       "    </tr>\n",
       "  </tbody>\n",
       "</table>\n",
       "</div>"
      ],
      "text/plain": [
       "   runs  NotOut  mins   bf  fours  sixes      sr  Inns           Opp  \\\n",
       "0   183       0   211  148     22      1  123.64     2      Pakistan   \n",
       "1   160       1   220  159     12      2  100.62     1  South Africa   \n",
       "2   157       1   217  129     13      4  121.70     1   West Indies   \n",
       "3   154       1   202  134     16      1  114.92     2   New Zealand   \n",
       "4   140       0     0  107     21      2  130.84     2   West Indies   \n",
       "\n",
       "          Ground       Date  \n",
       "0          Dhaka  18-Mar-12  \n",
       "1      Cape Town  07-Feb-18  \n",
       "2  Visakhapatnam  24-Oct-18  \n",
       "3         Mohali  23-Oct-16  \n",
       "4       Guwahati  21-Oct-18  "
      ]
     },
     "execution_count": 9,
     "metadata": {},
     "output_type": "execute_result"
    }
   ],
   "source": [
    "df.head()"
   ]
  },
  {
   "cell_type": "code",
   "execution_count": 11,
   "id": "a7992af6-f7c0-4410-ba7f-1f4571686c4c",
   "metadata": {},
   "outputs": [
    {
     "data": {
      "text/html": [
       "<div>\n",
       "<style scoped>\n",
       "    .dataframe tbody tr th:only-of-type {\n",
       "        vertical-align: middle;\n",
       "    }\n",
       "\n",
       "    .dataframe tbody tr th {\n",
       "        vertical-align: top;\n",
       "    }\n",
       "\n",
       "    .dataframe thead th {\n",
       "        text-align: right;\n",
       "    }\n",
       "</style>\n",
       "<table border=\"1\" class=\"dataframe\">\n",
       "  <thead>\n",
       "    <tr style=\"text-align: right;\">\n",
       "      <th></th>\n",
       "      <th>runs</th>\n",
       "      <th>NotOut</th>\n",
       "      <th>mins</th>\n",
       "      <th>bf</th>\n",
       "      <th>fours</th>\n",
       "      <th>sixes</th>\n",
       "      <th>sr</th>\n",
       "      <th>Inns</th>\n",
       "      <th>Opp</th>\n",
       "      <th>Ground</th>\n",
       "      <th>Date</th>\n",
       "    </tr>\n",
       "  </thead>\n",
       "  <tbody>\n",
       "    <tr>\n",
       "      <th>233</th>\n",
       "      <td>0</td>\n",
       "      <td>0</td>\n",
       "      <td>7</td>\n",
       "      <td>5</td>\n",
       "      <td>0</td>\n",
       "      <td>0</td>\n",
       "      <td>0.0</td>\n",
       "      <td>2</td>\n",
       "      <td>South Africa</td>\n",
       "      <td>Durban</td>\n",
       "      <td>08-Dec-13</td>\n",
       "    </tr>\n",
       "    <tr>\n",
       "      <th>234</th>\n",
       "      <td>0</td>\n",
       "      <td>0</td>\n",
       "      <td>1</td>\n",
       "      <td>3</td>\n",
       "      <td>0</td>\n",
       "      <td>0</td>\n",
       "      <td>0.0</td>\n",
       "      <td>1</td>\n",
       "      <td>England</td>\n",
       "      <td>Cardiff</td>\n",
       "      <td>27-Aug-14</td>\n",
       "    </tr>\n",
       "    <tr>\n",
       "      <th>235</th>\n",
       "      <td>0</td>\n",
       "      <td>0</td>\n",
       "      <td>5</td>\n",
       "      <td>5</td>\n",
       "      <td>0</td>\n",
       "      <td>0</td>\n",
       "      <td>0.0</td>\n",
       "      <td>1</td>\n",
       "      <td>Sri Lanka</td>\n",
       "      <td>The Oval</td>\n",
       "      <td>08-Jun-17</td>\n",
       "    </tr>\n",
       "    <tr>\n",
       "      <th>236</th>\n",
       "      <td>0</td>\n",
       "      <td>0</td>\n",
       "      <td>7</td>\n",
       "      <td>4</td>\n",
       "      <td>0</td>\n",
       "      <td>0</td>\n",
       "      <td>0.0</td>\n",
       "      <td>1</td>\n",
       "      <td>Australia</td>\n",
       "      <td>Chennai</td>\n",
       "      <td>17-Sep-17</td>\n",
       "    </tr>\n",
       "    <tr>\n",
       "      <th>237</th>\n",
       "      <td>0</td>\n",
       "      <td>0</td>\n",
       "      <td>0</td>\n",
       "      <td>1</td>\n",
       "      <td>0</td>\n",
       "      <td>0</td>\n",
       "      <td>0.0</td>\n",
       "      <td>1</td>\n",
       "      <td>West Indies</td>\n",
       "      <td>Visakhapatnam</td>\n",
       "      <td>18-Dec-19</td>\n",
       "    </tr>\n",
       "  </tbody>\n",
       "</table>\n",
       "</div>"
      ],
      "text/plain": [
       "     runs  NotOut  mins  bf  fours  sixes   sr  Inns           Opp  \\\n",
       "233     0       0     7   5      0      0  0.0     2  South Africa   \n",
       "234     0       0     1   3      0      0  0.0     1       England   \n",
       "235     0       0     5   5      0      0  0.0     1     Sri Lanka   \n",
       "236     0       0     7   4      0      0  0.0     1     Australia   \n",
       "237     0       0     0   1      0      0  0.0     1   West Indies   \n",
       "\n",
       "            Ground       Date  \n",
       "233         Durban  08-Dec-13  \n",
       "234        Cardiff  27-Aug-14  \n",
       "235       The Oval  08-Jun-17  \n",
       "236        Chennai  17-Sep-17  \n",
       "237  Visakhapatnam  18-Dec-19  "
      ]
     },
     "execution_count": 11,
     "metadata": {},
     "output_type": "execute_result"
    }
   ],
   "source": [
    "df.tail()"
   ]
  },
  {
   "cell_type": "code",
   "execution_count": 13,
   "id": "1a4f238b-bb1e-48c7-ae08-aa7e61695454",
   "metadata": {},
   "outputs": [
    {
     "data": {
      "text/plain": [
       "Index(['runs', 'NotOut', 'mins', 'bf', 'fours', 'sixes', 'sr', 'Inns', 'Opp',\n",
       "       'Ground', 'Date'],\n",
       "      dtype='object')"
      ]
     },
     "execution_count": 13,
     "metadata": {},
     "output_type": "execute_result"
    }
   ],
   "source": [
    "df.columns"
   ]
  },
  {
   "cell_type": "code",
   "execution_count": 17,
   "id": "0826ae40-bd5a-40ce-b256-aa1d0881f42c",
   "metadata": {},
   "outputs": [
    {
     "name": "stdout",
     "output_type": "stream",
     "text": [
      "<class 'pandas.core.frame.DataFrame'>\n",
      "RangeIndex: 238 entries, 0 to 237\n",
      "Data columns (total 11 columns):\n",
      " #   Column  Non-Null Count  Dtype  \n",
      "---  ------  --------------  -----  \n",
      " 0   runs    238 non-null    int64  \n",
      " 1   NotOut  238 non-null    int64  \n",
      " 2   mins    238 non-null    int64  \n",
      " 3   bf      238 non-null    int64  \n",
      " 4   fours   238 non-null    int64  \n",
      " 5   sixes   238 non-null    int64  \n",
      " 6   sr      238 non-null    float64\n",
      " 7   Inns    238 non-null    int64  \n",
      " 8   Opp     238 non-null    object \n",
      " 9   Ground  238 non-null    object \n",
      " 10  Date    238 non-null    object \n",
      "dtypes: float64(1), int64(7), object(3)\n",
      "memory usage: 20.6+ KB\n"
     ]
    }
   ],
   "source": [
    "df.info()"
   ]
  },
  {
   "cell_type": "code",
   "execution_count": 27,
   "id": "e7b13ebc-dd9c-4858-adb2-75f41628f698",
   "metadata": {},
   "outputs": [
    {
     "data": {
      "text/html": [
       "<div>\n",
       "<style scoped>\n",
       "    .dataframe tbody tr th:only-of-type {\n",
       "        vertical-align: middle;\n",
       "    }\n",
       "\n",
       "    .dataframe tbody tr th {\n",
       "        vertical-align: top;\n",
       "    }\n",
       "\n",
       "    .dataframe thead th {\n",
       "        text-align: right;\n",
       "    }\n",
       "</style>\n",
       "<table border=\"1\" class=\"dataframe\">\n",
       "  <thead>\n",
       "    <tr style=\"text-align: right;\">\n",
       "      <th></th>\n",
       "      <th>runs</th>\n",
       "      <th>NotOut</th>\n",
       "      <th>mins</th>\n",
       "      <th>bf</th>\n",
       "      <th>fours</th>\n",
       "      <th>sixes</th>\n",
       "      <th>sr</th>\n",
       "      <th>Inns</th>\n",
       "    </tr>\n",
       "  </thead>\n",
       "  <tbody>\n",
       "    <tr>\n",
       "      <th>count</th>\n",
       "      <td>238.000000</td>\n",
       "      <td>238.000000</td>\n",
       "      <td>238.000000</td>\n",
       "      <td>238.000000</td>\n",
       "      <td>238.000000</td>\n",
       "      <td>238.000000</td>\n",
       "      <td>238.000000</td>\n",
       "      <td>238.000000</td>\n",
       "    </tr>\n",
       "    <tr>\n",
       "      <th>mean</th>\n",
       "      <td>49.861345</td>\n",
       "      <td>0.163866</td>\n",
       "      <td>63.617647</td>\n",
       "      <td>53.470588</td>\n",
       "      <td>4.689076</td>\n",
       "      <td>0.508403</td>\n",
       "      <td>80.319286</td>\n",
       "      <td>1.563025</td>\n",
       "    </tr>\n",
       "    <tr>\n",
       "      <th>std</th>\n",
       "      <td>43.123531</td>\n",
       "      <td>0.370934</td>\n",
       "      <td>59.129701</td>\n",
       "      <td>39.314339</td>\n",
       "      <td>4.667416</td>\n",
       "      <td>0.988293</td>\n",
       "      <td>35.869022</td>\n",
       "      <td>0.497057</td>\n",
       "    </tr>\n",
       "    <tr>\n",
       "      <th>min</th>\n",
       "      <td>0.000000</td>\n",
       "      <td>0.000000</td>\n",
       "      <td>0.000000</td>\n",
       "      <td>1.000000</td>\n",
       "      <td>0.000000</td>\n",
       "      <td>0.000000</td>\n",
       "      <td>0.000000</td>\n",
       "      <td>1.000000</td>\n",
       "    </tr>\n",
       "    <tr>\n",
       "      <th>25%</th>\n",
       "      <td>11.000000</td>\n",
       "      <td>0.000000</td>\n",
       "      <td>10.000000</td>\n",
       "      <td>18.000000</td>\n",
       "      <td>1.000000</td>\n",
       "      <td>0.000000</td>\n",
       "      <td>62.912500</td>\n",
       "      <td>1.000000</td>\n",
       "    </tr>\n",
       "    <tr>\n",
       "      <th>50%</th>\n",
       "      <td>37.000000</td>\n",
       "      <td>0.000000</td>\n",
       "      <td>44.500000</td>\n",
       "      <td>48.500000</td>\n",
       "      <td>3.500000</td>\n",
       "      <td>0.000000</td>\n",
       "      <td>81.860000</td>\n",
       "      <td>2.000000</td>\n",
       "    </tr>\n",
       "    <tr>\n",
       "      <th>75%</th>\n",
       "      <td>81.750000</td>\n",
       "      <td>0.000000</td>\n",
       "      <td>109.750000</td>\n",
       "      <td>83.000000</td>\n",
       "      <td>7.000000</td>\n",
       "      <td>1.000000</td>\n",
       "      <td>100.000000</td>\n",
       "      <td>2.000000</td>\n",
       "    </tr>\n",
       "    <tr>\n",
       "      <th>max</th>\n",
       "      <td>183.000000</td>\n",
       "      <td>1.000000</td>\n",
       "      <td>220.000000</td>\n",
       "      <td>159.000000</td>\n",
       "      <td>22.000000</td>\n",
       "      <td>7.000000</td>\n",
       "      <td>209.090000</td>\n",
       "      <td>2.000000</td>\n",
       "    </tr>\n",
       "  </tbody>\n",
       "</table>\n",
       "</div>"
      ],
      "text/plain": [
       "             runs      NotOut        mins          bf       fours       sixes  \\\n",
       "count  238.000000  238.000000  238.000000  238.000000  238.000000  238.000000   \n",
       "mean    49.861345    0.163866   63.617647   53.470588    4.689076    0.508403   \n",
       "std     43.123531    0.370934   59.129701   39.314339    4.667416    0.988293   \n",
       "min      0.000000    0.000000    0.000000    1.000000    0.000000    0.000000   \n",
       "25%     11.000000    0.000000   10.000000   18.000000    1.000000    0.000000   \n",
       "50%     37.000000    0.000000   44.500000   48.500000    3.500000    0.000000   \n",
       "75%     81.750000    0.000000  109.750000   83.000000    7.000000    1.000000   \n",
       "max    183.000000    1.000000  220.000000  159.000000   22.000000    7.000000   \n",
       "\n",
       "               sr        Inns  \n",
       "count  238.000000  238.000000  \n",
       "mean    80.319286    1.563025  \n",
       "std     35.869022    0.497057  \n",
       "min      0.000000    1.000000  \n",
       "25%     62.912500    1.000000  \n",
       "50%     81.860000    2.000000  \n",
       "75%    100.000000    2.000000  \n",
       "max    209.090000    2.000000  "
      ]
     },
     "execution_count": 27,
     "metadata": {},
     "output_type": "execute_result"
    }
   ],
   "source": [
    "df.describe()"
   ]
  },
  {
   "cell_type": "code",
   "execution_count": 29,
   "id": "db0fcef4-2fae-4aeb-96f3-288cc6791917",
   "metadata": {},
   "outputs": [
    {
     "data": {
      "text/html": [
       "<div>\n",
       "<style scoped>\n",
       "    .dataframe tbody tr th:only-of-type {\n",
       "        vertical-align: middle;\n",
       "    }\n",
       "\n",
       "    .dataframe tbody tr th {\n",
       "        vertical-align: top;\n",
       "    }\n",
       "\n",
       "    .dataframe thead th {\n",
       "        text-align: right;\n",
       "    }\n",
       "</style>\n",
       "<table border=\"1\" class=\"dataframe\">\n",
       "  <thead>\n",
       "    <tr style=\"text-align: right;\">\n",
       "      <th></th>\n",
       "      <th>Opp</th>\n",
       "      <th>Ground</th>\n",
       "      <th>Date</th>\n",
       "    </tr>\n",
       "  </thead>\n",
       "  <tbody>\n",
       "    <tr>\n",
       "      <th>count</th>\n",
       "      <td>238</td>\n",
       "      <td>238</td>\n",
       "      <td>238</td>\n",
       "    </tr>\n",
       "    <tr>\n",
       "      <th>unique</th>\n",
       "      <td>13</td>\n",
       "      <td>60</td>\n",
       "      <td>238</td>\n",
       "    </tr>\n",
       "    <tr>\n",
       "      <th>top</th>\n",
       "      <td>Sri Lanka</td>\n",
       "      <td>Dhaka</td>\n",
       "      <td>18-Mar-12</td>\n",
       "    </tr>\n",
       "    <tr>\n",
       "      <th>freq</th>\n",
       "      <td>46</td>\n",
       "      <td>13</td>\n",
       "      <td>1</td>\n",
       "    </tr>\n",
       "  </tbody>\n",
       "</table>\n",
       "</div>"
      ],
      "text/plain": [
       "              Opp Ground       Date\n",
       "count         238    238        238\n",
       "unique         13     60        238\n",
       "top     Sri Lanka  Dhaka  18-Mar-12\n",
       "freq           46     13          1"
      ]
     },
     "execution_count": 29,
     "metadata": {},
     "output_type": "execute_result"
    }
   ],
   "source": [
    "df.describe(include='object')"
   ]
  },
  {
   "cell_type": "code",
   "execution_count": 21,
   "id": "483ca20c-cfba-4166-aff0-6df14d7af2a7",
   "metadata": {},
   "outputs": [
    {
     "data": {
      "text/plain": [
       "runs      49.861345\n",
       "NotOut     0.163866\n",
       "mins      63.617647\n",
       "bf        53.470588\n",
       "fours      4.689076\n",
       "sixes      0.508403\n",
       "sr        80.319286\n",
       "Inns       1.563025\n",
       "dtype: float64"
      ]
     },
     "execution_count": 21,
     "metadata": {},
     "output_type": "execute_result"
    }
   ],
   "source": [
    "df.select_dtypes(include=np.number).mean()"
   ]
  },
  {
   "cell_type": "code",
   "execution_count": 23,
   "id": "d124b7ef-dec2-4773-880d-6b85c4874677",
   "metadata": {},
   "outputs": [
    {
     "data": {
      "text/plain": [
       "runs      37.00\n",
       "NotOut     0.00\n",
       "mins      44.50\n",
       "bf        48.50\n",
       "fours      3.50\n",
       "sixes      0.00\n",
       "sr        81.86\n",
       "Inns       2.00\n",
       "dtype: float64"
      ]
     },
     "execution_count": 23,
     "metadata": {},
     "output_type": "execute_result"
    }
   ],
   "source": [
    "df.select_dtypes(include=np.number).median()"
   ]
  },
  {
   "cell_type": "code",
   "execution_count": 25,
   "id": "a08cd265-680e-42ab-a95e-234253c2d335",
   "metadata": {},
   "outputs": [
    {
     "data": {
      "text/plain": [
       "runs      0\n",
       "NotOut    0\n",
       "mins      0\n",
       "bf        0\n",
       "fours     0\n",
       "sixes     0\n",
       "sr        0\n",
       "Inns      0\n",
       "Opp       0\n",
       "Ground    0\n",
       "Date      0\n",
       "dtype: int64"
      ]
     },
     "execution_count": 25,
     "metadata": {},
     "output_type": "execute_result"
    }
   ],
   "source": [
    "df.isnull().sum()"
   ]
  },
  {
   "cell_type": "markdown",
   "id": "c6f2a3e5-abd7-43a1-8f28-432735daba9b",
   "metadata": {
    "jp-MarkdownHeadingCollapsed": true
   },
   "source": [
    "## Filtering the data"
   ]
  },
  {
   "attachments": {},
   "cell_type": "markdown",
   "id": "d2167b81-9114-4dbc-a883-9f01373999ad",
   "metadata": {},
   "source": [
    "1. What is the average number of runs scored by the player?\r\n",
    "2. How many matches has the player remained not out?\r\n",
    "3. Which opponent has the player scored the most runs against?\r\n",
    "4. What is the most common ground where the player has played?\r\n",
    "5. What is the player's highest strike rate in a match?\r\n",
    "6. How many centuries (100+ runs) has the player scored?\r\n",
    "7. What is the average strike rate across all matches?\r\n",
    "8. What is the maximum number of fours hit in a single match?\r\n",
    "9. What is the total number of sixes hit by the player?\r\n",
    "10. How many times has the player scored more than 150 runs in a match?\r\n"
   ]
  },
  {
   "cell_type": "markdown",
   "id": "c00784a5-e463-4c54-ac53-0a807c240f99",
   "metadata": {},
   "source": [
    "### 1. What is the average number of runs scored by Virat?"
   ]
  },
  {
   "cell_type": "code",
   "execution_count": 303,
   "id": "0251560c-93d4-4b63-880a-1df83d7f537e",
   "metadata": {},
   "outputs": [
    {
     "name": "stdout",
     "output_type": "stream",
     "text": [
      "Average of Virat is runs    49.861345\n",
      "dtype: float64\n"
     ]
    }
   ],
   "source": [
    "print('Average of Virat is',df[['runs']].mean())"
   ]
  },
  {
   "cell_type": "markdown",
   "id": "5a90b675-4923-4929-b2f0-f1d09e294cab",
   "metadata": {},
   "source": [
    "### 2.How many matches has the player remained not out?"
   ]
  },
  {
   "cell_type": "code",
   "execution_count": 306,
   "id": "05427b02-ecc1-4f91-a6e9-5cc97b5f5eff",
   "metadata": {},
   "outputs": [
    {
     "name": "stdout",
     "output_type": "stream",
     "text": [
      "Total Matches Virat finishes Not Out is: 39\n"
     ]
    }
   ],
   "source": [
    "Total_NO = pd.DataFrame(df[df['NotOut']==1])\n",
    "print('Total Matches Virat finishes Not Out is:',Total_NO['NotOut'].count())\n",
    "#Total_NO"
   ]
  },
  {
   "cell_type": "markdown",
   "id": "cb1adce9-1692-47d3-a2c0-450e092db2bd",
   "metadata": {},
   "source": [
    "### 3. Which opponent has the virat scored the most runs against?"
   ]
  },
  {
   "cell_type": "code",
   "execution_count": 309,
   "id": "51640c15-8ebb-428e-b1cf-667b6cdcd02a",
   "metadata": {},
   "outputs": [],
   "source": [
    "df1 = df.groupby('Opp')"
   ]
  },
  {
   "cell_type": "code",
   "execution_count": 311,
   "id": "2c998aca-710a-4104-8e5f-9a76500f79ae",
   "metadata": {},
   "outputs": [
    {
     "data": {
      "text/html": [
       "<div>\n",
       "<style scoped>\n",
       "    .dataframe tbody tr th:only-of-type {\n",
       "        vertical-align: middle;\n",
       "    }\n",
       "\n",
       "    .dataframe tbody tr th {\n",
       "        vertical-align: top;\n",
       "    }\n",
       "\n",
       "    .dataframe thead th {\n",
       "        text-align: right;\n",
       "    }\n",
       "</style>\n",
       "<table border=\"1\" class=\"dataframe\">\n",
       "  <thead>\n",
       "    <tr style=\"text-align: right;\">\n",
       "      <th></th>\n",
       "      <th>runs</th>\n",
       "    </tr>\n",
       "    <tr>\n",
       "      <th>Opp</th>\n",
       "      <th></th>\n",
       "    </tr>\n",
       "  </thead>\n",
       "  <tbody>\n",
       "    <tr>\n",
       "      <th>Afghanistan</th>\n",
       "      <td>67</td>\n",
       "    </tr>\n",
       "    <tr>\n",
       "      <th>Australia</th>\n",
       "      <td>1910</td>\n",
       "    </tr>\n",
       "    <tr>\n",
       "      <th>Bangladesh</th>\n",
       "      <td>680</td>\n",
       "    </tr>\n",
       "    <tr>\n",
       "      <th>England</th>\n",
       "      <td>1178</td>\n",
       "    </tr>\n",
       "    <tr>\n",
       "      <th>Ireland</th>\n",
       "      <td>78</td>\n",
       "    </tr>\n",
       "    <tr>\n",
       "      <th>Netherlands</th>\n",
       "      <td>12</td>\n",
       "    </tr>\n",
       "    <tr>\n",
       "      <th>New Zealand</th>\n",
       "      <td>1378</td>\n",
       "    </tr>\n",
       "    <tr>\n",
       "      <th>Pakistan</th>\n",
       "      <td>536</td>\n",
       "    </tr>\n",
       "    <tr>\n",
       "      <th>South Africa</th>\n",
       "      <td>1287</td>\n",
       "    </tr>\n",
       "    <tr>\n",
       "      <th>Sri Lanka</th>\n",
       "      <td>2220</td>\n",
       "    </tr>\n",
       "    <tr>\n",
       "      <th>U.A.E.</th>\n",
       "      <td>33</td>\n",
       "    </tr>\n",
       "    <tr>\n",
       "      <th>West Indies</th>\n",
       "      <td>2235</td>\n",
       "    </tr>\n",
       "    <tr>\n",
       "      <th>Zimbabwe</th>\n",
       "      <td>253</td>\n",
       "    </tr>\n",
       "  </tbody>\n",
       "</table>\n",
       "</div>"
      ],
      "text/plain": [
       "              runs\n",
       "Opp               \n",
       "Afghanistan     67\n",
       "Australia     1910\n",
       "Bangladesh     680\n",
       "England       1178\n",
       "Ireland         78\n",
       "Netherlands     12\n",
       "New Zealand   1378\n",
       "Pakistan       536\n",
       "South Africa  1287\n",
       "Sri Lanka     2220\n",
       "U.A.E.          33\n",
       "West Indies   2235\n",
       "Zimbabwe       253"
      ]
     },
     "execution_count": 311,
     "metadata": {},
     "output_type": "execute_result"
    }
   ],
   "source": [
    "df1[['runs']].sum()"
   ]
  },
  {
   "cell_type": "code",
   "execution_count": 313,
   "id": "f1cf7111-9dc6-40d8-994d-cffbfec2ad91",
   "metadata": {},
   "outputs": [
    {
     "name": "stdout",
     "output_type": "stream",
     "text": [
      "Viratt Scored most runs against opp is runs    2235\n",
      "dtype: int64\n"
     ]
    }
   ],
   "source": [
    "print('Viratt Scored most runs against opp is',df1[['runs']].sum().max())"
   ]
  },
  {
   "cell_type": "markdown",
   "id": "c8289768-9900-4f2e-9049-80037bb51391",
   "metadata": {},
   "source": [
    "### 4. What is the most common ground where the Virat has played?"
   ]
  },
  {
   "cell_type": "code",
   "execution_count": 316,
   "id": "082e4581-87f1-4d2b-b9b0-2005f7dc8399",
   "metadata": {},
   "outputs": [
    {
     "data": {
      "text/plain": [
       "13"
      ]
     },
     "execution_count": 316,
     "metadata": {},
     "output_type": "execute_result"
    }
   ],
   "source": [
    "df.Ground.value_counts().max()"
   ]
  },
  {
   "cell_type": "code",
   "execution_count": 318,
   "id": "91299054-813c-4f23-a927-16b2a4039654",
   "metadata": {},
   "outputs": [],
   "source": [
    "Grounds_cts=tuple(zip(df['Ground'],df.Ground.value_counts()))"
   ]
  },
  {
   "cell_type": "code",
   "execution_count": 320,
   "id": "d773d882-30a0-43cf-b437-4200a5605012",
   "metadata": {},
   "outputs": [
    {
     "name": "stdout",
     "output_type": "stream",
     "text": [
      "The Ground on which Virat Played the most in: Dhaka \n",
      "The count is. 13\n"
     ]
    }
   ],
   "source": [
    "for i in Grounds_cts:\n",
    "    if i[1]==df.Ground.value_counts().max():\n",
    "        print('The Ground on which Virat Played the most in:',i[0],'\\nThe count is.',i[1])\n",
    "    else:\n",
    "        continue\n",
    "\n"
   ]
  },
  {
   "cell_type": "markdown",
   "id": "3f14924e-c75f-4612-82f4-2a70832e80f6",
   "metadata": {},
   "source": [
    "### 5. What is the player's highest strike rate in a match?"
   ]
  },
  {
   "cell_type": "code",
   "execution_count": 323,
   "id": "004a4b3c-fb67-4e59-82d3-7e75403be64d",
   "metadata": {},
   "outputs": [],
   "source": [
    "sr = df[df['sr'] == df['sr'].max()]"
   ]
  },
  {
   "cell_type": "code",
   "execution_count": 325,
   "id": "2bae4d42-62c2-4d30-be14-0835f1da058d",
   "metadata": {},
   "outputs": [
    {
     "name": "stdout",
     "output_type": "stream",
     "text": [
      "Virat has highest average 209.09 with runs 23 against West Indies\n"
     ]
    }
   ],
   "source": [
    "print('Virat has highest average',sr['sr'].values[0],'with runs',sr['runs'].values[0],'against',sr['Opp'].values[0])"
   ]
  },
  {
   "cell_type": "markdown",
   "id": "86e57812-7826-473a-8968-cc68755c1587",
   "metadata": {
    "jp-MarkdownHeadingCollapsed": true
   },
   "source": [
    "### 6. How many centuries (100+ runs) has the Virat scored?"
   ]
  },
  {
   "cell_type": "code",
   "execution_count": 328,
   "id": "f7688067-91f6-48db-9f5d-e1c6a0bb932d",
   "metadata": {},
   "outputs": [
    {
     "name": "stderr",
     "output_type": "stream",
     "text": [
      "C:\\Users\\prakhar\\AppData\\Local\\Temp\\ipykernel_2600\\3664061970.py:1: FutureWarning: Series.__getitem__ treating keys as positions is deprecated. In a future version, integer keys will always be treated as labels (consistent with DataFrame behavior). To access a value by position, use `ser.iloc[pos]`\n",
      "  df[df['runs']>=100].count()[0]\n"
     ]
    },
    {
     "data": {
      "text/plain": [
       "43"
      ]
     },
     "execution_count": 328,
     "metadata": {},
     "output_type": "execute_result"
    }
   ],
   "source": [
    "df[df['runs']>=100].count()[0]"
   ]
  },
  {
   "cell_type": "code",
   "execution_count": 330,
   "id": "f50781f5-faf8-428b-80d7-f7e163df0224",
   "metadata": {},
   "outputs": [],
   "source": [
    "Centuries = df[df['runs']>=100].shape[0]"
   ]
  },
  {
   "cell_type": "code",
   "execution_count": 331,
   "id": "5bf21f00-8cd4-492c-89e9-9da4c049785b",
   "metadata": {},
   "outputs": [
    {
     "name": "stdout",
     "output_type": "stream",
     "text": [
      "Virat has scored 43 Centuries\n"
     ]
    }
   ],
   "source": [
    "print('Virat has scored',Centuries,'Centuries')"
   ]
  },
  {
   "cell_type": "markdown",
   "id": "b77d33f6-2acc-454d-8111-c8876d24a164",
   "metadata": {
    "jp-MarkdownHeadingCollapsed": true
   },
   "source": [
    "### 7. What is the average strike rate across all matches?"
   ]
  },
  {
   "cell_type": "code",
   "execution_count": 335,
   "id": "d816afea-e603-42f5-9616-181f19e573d1",
   "metadata": {},
   "outputs": [],
   "source": [
    "avg = df['sr']"
   ]
  },
  {
   "cell_type": "code",
   "execution_count": 336,
   "id": "4495e435-85fc-4ac9-af6c-e7addb87fdd4",
   "metadata": {},
   "outputs": [
    {
     "name": "stdout",
     "output_type": "stream",
     "text": [
      "The Average Strike Rate of Virat across all matches: 80.31928571428571\n"
     ]
    }
   ],
   "source": [
    "print('The Average Strike Rate of Virat across all matches:',avg.mean())"
   ]
  },
  {
   "cell_type": "markdown",
   "id": "fe760b8d-04fe-4897-9e4c-ceb69d0b824a",
   "metadata": {
    "jp-MarkdownHeadingCollapsed": true
   },
   "source": [
    "### 8. What is the maximum number of fours hit in a single match?"
   ]
  },
  {
   "cell_type": "code",
   "execution_count": 340,
   "id": "c93c5170-b45b-48c7-829d-d14868a2c1ce",
   "metadata": {},
   "outputs": [],
   "source": [
    "fs=df[df['fours']==df['fours'].max()]"
   ]
  },
  {
   "cell_type": "code",
   "execution_count": 341,
   "id": "7003815b-a6c8-4aa5-93a9-9c36230bbea4",
   "metadata": {},
   "outputs": [
    {
     "name": "stdout",
     "output_type": "stream",
     "text": [
      "Virat's maximum fours 22 in a single match on 18-Mar-12 against Pakistan at Dhaka\n"
     ]
    }
   ],
   "source": [
    "print(f\"Virat's maximum fours {fs['fours'][0]} in a single match on {fs['Date'][0]} against {fs['Opp'][0]} at {fs['Ground'][0]}\")"
   ]
  },
  {
   "cell_type": "markdown",
   "id": "01e8fe47-f3af-4549-a096-3e55f9486d22",
   "metadata": {
    "jp-MarkdownHeadingCollapsed": true
   },
   "source": [
    "### 9. What is the total number of sixes hit by Virat?"
   ]
  },
  {
   "cell_type": "code",
   "execution_count": 345,
   "id": "e0ea33b6-f3fb-4653-8549-4fcbe59e111e",
   "metadata": {},
   "outputs": [
    {
     "name": "stdout",
     "output_type": "stream",
     "text": [
      "Virat has hit 238 total sixes till 31-Jul-12\n"
     ]
    }
   ],
   "source": [
    "print(f'Virat has hit {df.sixes.value_counts().sum()} total sixes till {df.Date.max()}')"
   ]
  },
  {
   "cell_type": "markdown",
   "id": "e62f90b4-4d49-472a-b8fc-42adad5cf6ff",
   "metadata": {
    "jp-MarkdownHeadingCollapsed": true
   },
   "source": [
    "### 10. How many times has the player scored more than 150 runs in a match?"
   ]
  },
  {
   "cell_type": "code",
   "execution_count": 359,
   "id": "372568d8-d382-47f6-ae9e-286be149368c",
   "metadata": {},
   "outputs": [],
   "source": [
    "v_150=df[df['runs']>=150]"
   ]
  },
  {
   "cell_type": "code",
   "execution_count": 361,
   "id": "0218bb57-d2d0-4eb4-9e51-67646353307b",
   "metadata": {},
   "outputs": [
    {
     "name": "stdout",
     "output_type": "stream",
     "text": [
      "Virat has scored 150+ runs 4 times, with max run as 183\n"
     ]
    }
   ],
   "source": [
    "print(f'Virat has scored 150+ runs {df[df['runs']>=150].shape[0]} times, with max run as {v_150['runs'].max()}')"
   ]
  },
  {
   "cell_type": "code",
   "execution_count": null,
   "id": "c7e6b0b1-2819-4b49-a2bf-a8ade4e0ba21",
   "metadata": {},
   "outputs": [],
   "source": []
  }
 ],
 "metadata": {
  "kernelspec": {
   "display_name": "Python 3 (ipykernel)",
   "language": "python",
   "name": "python3"
  },
  "language_info": {
   "codemirror_mode": {
    "name": "ipython",
    "version": 3
   },
   "file_extension": ".py",
   "mimetype": "text/x-python",
   "name": "python",
   "nbconvert_exporter": "python",
   "pygments_lexer": "ipython3",
   "version": "3.12.4"
  }
 },
 "nbformat": 4,
 "nbformat_minor": 5
}
